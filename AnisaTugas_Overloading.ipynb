{
  "nbformat": 4,
  "nbformat_minor": 0,
  "metadata": {
    "colab": {
      "provenance": [],
      "include_colab_link": true
    },
    "kernelspec": {
      "name": "python3",
      "display_name": "Python 3"
    },
    "language_info": {
      "name": "python"
    }
  },
  "cells": [
    {
      "cell_type": "markdown",
      "metadata": {
        "id": "view-in-github",
        "colab_type": "text"
      },
      "source": [
        "<a href=\"https://colab.research.google.com/github/anisayaffa/overloading/blob/main/AnisaTugas_Overloading.ipynb\" target=\"_parent\"><img src=\"https://colab.research.google.com/assets/colab-badge.svg\" alt=\"Open In Colab\"/></a>"
      ]
    },
    {
      "cell_type": "code",
      "execution_count": 20,
      "metadata": {
        "id": "cytAUNWzM1-6"
      },
      "outputs": [],
      "source": [
        "#Buat Perkalian yang memiliki Sebuah fungsi dangan nama Hitung\n",
        "class Perkalian:\n",
        "  def Hitung(self, *args):\n",
        "    if (len(args) <= 4):\n",
        "        sum = 1\n",
        "        for num in args:\n",
        "            sum *= num\n",
        "        print(sum)\n",
        "    else:\n",
        "        print(\"Maksimum 4\")\n"
      ]
    },
    {
      "cell_type": "code",
      "source": [
        "coba = Perkalian()\n",
        "coba.Hitung(1, 4)\n",
        "coba.Hitung(1, 4, 6)\n",
        "coba.Hitung(1, 4, 6, 8, 5)"
      ],
      "metadata": {
        "id": "W9hN-kX7PDUI",
        "colab": {
          "base_uri": "https://localhost:8080/"
        },
        "outputId": "d795c524-7504-4154-8b10-b914a7f7ee65"
      },
      "execution_count": 22,
      "outputs": [
        {
          "output_type": "stream",
          "name": "stdout",
          "text": [
            "4\n",
            "24\n",
            "Maksimum 4\n"
          ]
        }
      ]
    }
  ]
}