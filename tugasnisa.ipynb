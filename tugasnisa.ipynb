{
  "nbformat": 4,
  "nbformat_minor": 0,
  "metadata": {
    "colab": {
      "provenance": [],
      "authorship_tag": "ABX9TyMmv2hXZ8AwE6dJV/3cIclP",
      "include_colab_link": true
    },
    "kernelspec": {
      "name": "python3",
      "display_name": "Python 3"
    },
    "language_info": {
      "name": "python"
    }
  },
  "cells": [
    {
      "cell_type": "markdown",
      "metadata": {
        "id": "view-in-github",
        "colab_type": "text"
      },
      "source": [
        "<a href=\"https://colab.research.google.com/github/anisayaffa/overloading/blob/main/tugasnisa.ipynb\" target=\"_parent\"><img src=\"https://colab.research.google.com/assets/colab-badge.svg\" alt=\"Open In Colab\"/></a>"
      ]
    },
    {
      "cell_type": "markdown",
      "source": [
        "Sebuah start-up GoPay merupakan\n",
        "perusahaan vintage yang menjadi alat pembayaran aplikasi marketplace dan\n",
        "lainnya. Anda seorang programmer yang ditugaskan untuk membuat aplikasi\n",
        "GoPay yang memiliki sebuah class bernama AkunGopay, yang memiliki\n",
        "atribut no_hp, nama dan saldo, dimana semua atribut bersifat private,\n",
        "demi keamanan.\n",
        "\n",
        "Pengguna bisa mendaftar akun GoPay dengan no_hp dan nama saja, namun\n",
        "juga bisa mendaftar dengan no_hp, nama dan saldo. Jika mendaftar dengan\n",
        "no_hp dan nama saja maka saldo otomatis bernilai 0.\n",
        "\n",
        "Class AkunGopay harus menyediakan fungsi yang dapat diakses oleh Marketplace untuk melakukan transaksi, yaitu :\n",
        "\n",
        "topUp(), yang digunakan untuk menambahkan saldo\n",
        "bayarTransaksi(), yang mengurangi saldo ketika melakukan transaksi\n",
        "getSaldo(), untuk mengetahui jumlah saldo\n",
        "\n",
        "\n",
        "Teman Anda adalah seorang programer yang bekerja di sebuah start-up\n",
        "terkemuka Tokopedia yang bekerjasama dengan start-up keuangan GoPay.\n",
        "Anda ditugaskan membuat apikasi yang memiliki class AkunToped, dan\n",
        "memiliki atribut nama dan nomer_hp.\n",
        "\n",
        "Class AkunToped harus menyediakan fungsi yang untuk melakukan transaksi, yaitu:transaksi(), yang digunakan untuk mengurangi saldo Gopay dengan paramater nominal transaksi.\n",
        "\n",
        "getSaldo(), untuk mengetahui jumlah saldo Gopay.\n"
      ],
      "metadata": {
        "id": "pGD-g8WNBTZw"
      }
    },
    {
      "cell_type": "code",
      "source": [
        "class AkunGopay:\n",
        "    def __init__(self, no_hp, nama, saldo=0):\n",
        "        self.__no_hp = no_hp\n",
        "        self.__nama = nama\n",
        "        self.__saldo = saldo\n",
        "\n",
        "    def topUp(self, jumlah):\n",
        "        self.__saldo += jumlah\n",
        "        print(\"Top up berhasil. Saldo Anda Gopay sekarang: \", self.__saldo)\n",
        "\n",
        "    def bayarTransaksi(self, jumlah):\n",
        "        if jumlah <= self.__saldo:\n",
        "            self.__saldo -= jumlah\n",
        "            print(\"Transaksi berhasil. Saldo Anda Gopay sekarang: \", self.__saldo)\n",
        "        else:\n",
        "            print(\"Transaksi gagal. Saldo tidak mencukupi.\")\n",
        "\n",
        "    def getSaldo(self):\n",
        "        print(\"Saldo Gopay Anda saat ini: \", self.__saldo)\n",
        "\n",
        "class AkunToped:\n",
        "    def __init__(self, nama, nomer_hp):\n",
        "        self.nama = nama\n",
        "        self.nomer_hp = nomer_hp\n",
        "        self.saldo = 0\n",
        "\n",
        "    def transaksi(self, nominal):\n",
        "        if nominal > self.saldo:\n",
        "            print(\"Transaksi ke akun Toped gagal.\")\n",
        "        else:\n",
        "            self.saldo -= nominal\n",
        "            print(\"Transaksi berhasil. Saldo Toped Anda sekarang: \", self.saldo)\n",
        "\n",
        "    def getSaldo(self):\n",
        "        print(\"Saldo Toped Anda saat ini: \", self.saldo)"
      ],
      "metadata": {
        "id": "rTTcM9IVBXTP"
      },
      "execution_count": 9,
      "outputs": []
    },
    {
      "cell_type": "code",
      "source": [
        "# membuat objek akunGopay\n",
        "akunGopay1 = AkunGopay(\"08123456789\", \"Andi\", 50000)\n",
        "akunToped = AkunToped(\"Andi\", \"08123456789\")\n",
        "\n",
        "akunGopay1.getSaldo()\n",
        "akunGopay1.topUp(10000)\n",
        "akunGopay1.bayarTransaksi(20000)\n",
        "print('')\n",
        "\n",
        "akunToped.getSaldo()\n",
        "akunToped.transaksi(50000)\n",
        "akunToped.getSaldo()\n",
        "akunToped.transaksi(100000)"
      ],
      "metadata": {
        "colab": {
          "base_uri": "https://localhost:8080/"
        },
        "id": "HUlKHZdyrtNN",
        "outputId": "bf05f48a-8293-4f9b-dbed-d98d194ce352"
      },
      "execution_count": 17,
      "outputs": [
        {
          "output_type": "stream",
          "name": "stdout",
          "text": [
            "Saldo Gopay Anda saat ini:  50000\n",
            "Top up berhasil. Saldo Anda Gopay sekarang:  60000\n",
            "Transaksi berhasil. Saldo Anda Gopay sekarang:  40000\n",
            "\n",
            "Saldo Toped Anda saat ini:  0\n",
            "Transaksi ke akun Toped gagal.\n",
            "Saldo Toped Anda saat ini:  0\n",
            "Transaksi ke akun Toped gagal.\n"
          ]
        }
      ]
    }
  ]
}